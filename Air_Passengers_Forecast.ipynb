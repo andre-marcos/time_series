{
 "cells": [
  {
   "cell_type": "code",
   "execution_count": null,
   "id": "18801627",
   "metadata": {},
   "outputs": [],
   "source": [
    "import numpy as np #computação numérica como vetores\n",
    "import pandas as pd #análise e processamento de dados\n",
    "import matplotlib.pylab as plt #visualização de dados\n",
    "%matplotlib inline\n",
    "from matplotlib.pylab import rcParams\n",
    "rcParams['figure.figsize'] = 10,6"
   ]
  },
  {
   "cell_type": "code",
   "execution_count": null,
   "id": "43af5f9d",
   "metadata": {},
   "outputs": [],
   "source": [
    "dataset = pd.read_csv(\"AirPassengers.csv\")\n",
    "#dataset.head\n",
    "#dataset.get('Month',default=\"erro\")\n",
    "\n",
    "#converte string para o tipo datetime\n",
    "dataset['Month'] = pd.to_datetime(dataset['Month'], infer_datetime_format=True)\n",
    "indexedDataset = dataset.set_index(['Month'])"
   ]
  },
  {
   "cell_type": "code",
   "execution_count": null,
   "id": "509e916c",
   "metadata": {},
   "outputs": [],
   "source": [
    "from datetime import datetime\n",
    "indexedDataset.head(5)"
   ]
  },
  {
   "cell_type": "code",
   "execution_count": null,
   "id": "6a5d4f53",
   "metadata": {},
   "outputs": [],
   "source": [
    "indexedDataset.tail(5)"
   ]
  },
  {
   "cell_type": "code",
   "execution_count": null,
   "id": "d52a908e",
   "metadata": {},
   "outputs": [],
   "source": [
    "##plotar gráfico\n",
    "\n",
    "plt.xlabel(\"Data\")\n",
    "plt.ylabel(\"Número de passageiros\")\n",
    "plt.plot(indexedDataset)"
   ]
  },
  {
   "cell_type": "code",
   "execution_count": null,
   "id": "6441a04a",
   "metadata": {},
   "outputs": [],
   "source": [
    "#determinando as estatísticas móveis\n",
    "#média\n",
    "rolmean = indexedDataset.rolling(window=12).mean()\n",
    "\n",
    "#desvio padrão\n",
    "rolstd = indexedDataset.rolling(window=12).std()\n",
    "print(rolmean, rolstd)\n",
    "\n",
    "#como estamos analisando dados mês a mês, usamos a janela 12\n",
    "#caso fôssemos analisar dia a dia, a janela poderia ser 365"
   ]
  },
  {
   "cell_type": "code",
   "execution_count": null,
   "id": "b075fc39",
   "metadata": {},
   "outputs": [],
   "source": [
    "#plotando as estatísticas móveis\n",
    "orig = plt.plot(indexedDataset, color='blue',label='Original')\n",
    "mean = plt.plot(rolmean, color='red',label='Média Móvel')\n",
    "std = plt.plot(rolstd, color='black',label='Desvio Padrão Móvel')\n",
    "plt.legend(loc='best')\n",
    "plt.title('Média Móvel e Desvio Padrão')\n",
    "plt.show(block=False)"
   ]
  },
  {
   "cell_type": "code",
   "execution_count": null,
   "id": "403dbc73",
   "metadata": {},
   "outputs": [],
   "source": [
    "#teste de Dickey-Fuller\n",
    "from statsmodels.tsa.stattools import adfuller\n",
    "\n",
    "print('Resultados do Teste Dickey-Fuller: ')\n",
    "dftest = adfuller(indexedDataset['Passengers'], autolag='AIC')\n",
    "\n",
    "#pense no AIC descrito acima como uma métrica\n",
    "\n",
    "dfoutput = pd.Series(dftest[0:4], index=['Estatística de teste','p-valor','#lags usadas','número de observações usadas'])\n",
    "for key,value in dftest[4].items():\n",
    "    dfoutput['Valor Crítico (%s)'%key] = value\n",
    "\n",
    "print(dfoutput)\n",
    "\n",
    "#um p-valor deve normalmente estar em torno de 0.5\n",
    "#valor crítico deve ser menor que a estatística de teste"
   ]
  },
  {
   "cell_type": "code",
   "execution_count": null,
   "id": "9815dce3",
   "metadata": {
    "scrolled": true
   },
   "outputs": [],
   "source": [
    "#estimando a tendência\n",
    "indexedDataset_logScale = np.log(indexedDataset)\n",
    "plt.plot(indexedDataset_logScale)"
   ]
  },
  {
   "cell_type": "code",
   "execution_count": null,
   "id": "2be9513e",
   "metadata": {},
   "outputs": [],
   "source": [
    "movingAverage = indexedDataset_logScale.rolling(window=12).mean()\n",
    "movingSTD = indexedDataset_logScale.rolling(window=12).std()\n",
    "plt.plot(indexedDataset_logScale)\n",
    "plt.plot(movingAverage, color='red')"
   ]
  },
  {
   "cell_type": "code",
   "execution_count": null,
   "id": "e90ba93f",
   "metadata": {},
   "outputs": [],
   "source": [
    "datasetLogScaleMinusMovingAverage = indexedDataset_logScale - movingAverage\n",
    "datasetLogScaleMinusMovingAverage.head(12)\n",
    "\n",
    "#remover valores NaN\n",
    "datasetLogScaleMinusMovingAverage.dropna(inplace=True)\n",
    "datasetLogScaleMinusMovingAverage.head(10)"
   ]
  },
  {
   "cell_type": "code",
   "execution_count": null,
   "id": "e88c7390",
   "metadata": {},
   "outputs": [],
   "source": [
    "from statsmodels.tsa.stattools import adfuller\n",
    "def test_stationarity(timeseries):\n",
    "\n",
    "    #determinar as estatísticas móveis\n",
    "    movingAverage = timeseries.rolling(window=12).mean()\n",
    "    movingSTD = timeseries.rolling(window=12).std()\n",
    "    \n",
    "    #plotar as estatísticas móveis\n",
    "    orig = plt.plot(timeseries, color='blue',label='Original')\n",
    "    mean = plt.plot(movingAverage, color='red',label='Média Móvel')\n",
    "    std = plt.plot(movingSTD, color='black',label='Desvio Padrão Móvel')\n",
    "    plt.legend(loc='best')\n",
    "    plt.title('Média Móvel e Desvio Padrão')\n",
    "    plt.show(block=False)\n",
    "    \n",
    "    #teste de Dickey-Fuller\n",
    "    print('Resultados do Teste Dickey-Fuller: ')\n",
    "    dftest = adfuller(timeseries['Passengers'], autolag='AIC')\n",
    "    dfoutput = pd.Series(dftest[0:4], index=['Estatística de teste','p-valor','#lags usadas','número de observações usadas'])\n",
    "    for key,value in dftest[4].items():\n",
    "        dfoutput['Valor Crítico (%s)'%key] = value\n",
    "    print(dfoutput)"
   ]
  },
  {
   "cell_type": "code",
   "execution_count": null,
   "id": "3c03201b",
   "metadata": {},
   "outputs": [],
   "source": [
    "test_stationarity(datasetLogScaleMinusMovingAverage)"
   ]
  },
  {
   "cell_type": "code",
   "execution_count": null,
   "id": "72f30270",
   "metadata": {
    "scrolled": true
   },
   "outputs": [],
   "source": [
    "exponentialDecayWeightedAverage = indexedDataset_logScale.ewm(halflife=12, min_periods=0, adjust=True).mean()\n",
    "plt.plot(indexedDataset_logScale)\n",
    "plt.plot(exponentialDecayWeightedAverage, color='red')"
   ]
  },
  {
   "cell_type": "code",
   "execution_count": null,
   "id": "86ad3321",
   "metadata": {},
   "outputs": [],
   "source": [
    "datasetLogScaleMinusMovingExponentialDecayAverage = indexedDataset_logScale - exponentialDecayWeightedAverage\n",
    "test_stationarity(datasetLogScaleMinusMovingExponentialDecayAverage)"
   ]
  },
  {
   "cell_type": "code",
   "execution_count": null,
   "id": "d153158b",
   "metadata": {
    "scrolled": true
   },
   "outputs": [],
   "source": [
    "datasetLogDiffShifting = indexedDataset_logScale - indexedDataset_logScale.shift()\n",
    "plt.plot(datasetLogDiffShifting)"
   ]
  },
  {
   "cell_type": "code",
   "execution_count": null,
   "id": "02a8f59d",
   "metadata": {
    "scrolled": true
   },
   "outputs": [],
   "source": [
    "datasetLogDiffShifting.dropna(inplace=True)\n",
    "test_stationarity(datasetLogDiffShifting)"
   ]
  },
  {
   "cell_type": "code",
   "execution_count": null,
   "id": "e1fa9a49",
   "metadata": {},
   "outputs": [],
   "source": [
    "from statsmodels.tsa.seasonal import seasonal_decompose\n",
    "decomposition = seasonal_decompose(indexedDataset_logScale)\n",
    "\n",
    "#tendência\n",
    "trend = decomposition.trend\n",
    "#sazonal\n",
    "seasonal = decomposition.seasonal\n",
    "#residual\n",
    "residual = decomposition.resid\n",
    "\n",
    "plt.subplot(411)\n",
    "plt.plot(indexedDataset_logScale,label='Original')\n",
    "plt.legend(loc='best')\n",
    "plt.subplot(412)\n",
    "plt.plot(trend,label='Tendência')\n",
    "plt.legend(loc='best')\n",
    "plt.subplot(413)\n",
    "plt.plot(seasonal,label='Sazonalidade')\n",
    "plt.legend(loc='best')\n",
    "plt.subplot(414)\n",
    "plt.plot(residual,label='Residual')\n",
    "plt.legend(loc='best')\n",
    "plt.tight_layout()"
   ]
  },
  {
   "cell_type": "code",
   "execution_count": null,
   "id": "e20845f7",
   "metadata": {},
   "outputs": [],
   "source": [
    "#### ERRO ABAIXO - PENDENTE DE SOLUÇÃO\n",
    "decomposedLogData = residual\n",
    "decomposedLogData.dropna(inplace=True)\n",
    "test_stationarity(decomposedLogData)"
   ]
  },
  {
   "cell_type": "code",
   "execution_count": null,
   "id": "c255a6b1",
   "metadata": {
    "scrolled": true
   },
   "outputs": [],
   "source": [
    "#acf and pacf plots\n",
    "from statsmodels.tsa.stattools import acf, pacf\n",
    "\n",
    "lag_acf = acf(datasetLogDiffShifting, nlags=20)\n",
    "lag_pacf = pacf(datasetLogDiffShifting, nlags=20, method='ols')\n",
    "\n",
    "#plotagem ACF\n",
    "plt.subplot(121)\n",
    "plt.plot(lag_acf)\n",
    "plt.axhline(y=0,linestyle='--',color='gray')\n",
    "plt.axhline(y=-1.96/np.sqrt(len(datasetLogDiffShifting)),linestyle='--',color='gray')\n",
    "plt.axhline(y=1.96/np.sqrt(len(datasetLogDiffShifting)),linestyle='--',color='gray')\n",
    "plt.title('Função de autocorrelação')\n",
    "\n",
    "#plotagem PACF\n",
    "plt.subplot(122)\n",
    "plt.plot(lag_pacf)\n",
    "plt.axhline(y=0,linestyle='--',color='gray')\n",
    "plt.axhline(y=-1.96/np.sqrt(len(datasetLogDiffShifting)),linestyle='--',color='gray')\n",
    "plt.axhline(y=1.96/np.sqrt(len(datasetLogDiffShifting)),linestyle='--',color='gray')\n",
    "plt.title('Função de autocorrelação parcial')\n",
    "plt.tight_layout()"
   ]
  },
  {
   "cell_type": "code",
   "execution_count": null,
   "id": "0b638736",
   "metadata": {
    "scrolled": true
   },
   "outputs": [],
   "source": [
    "from statsmodels.tsa.arima_model import ARIMA\n",
    "\n",
    "#AR model\n",
    "model = ARIMA(indexedDataset_logScale, order=(2, 1, 2))\n",
    "results_AR = model.fit(disp=-1)\n",
    "plt.plot(datasetLogDiffShifting)\n",
    "plt.plot(results_AR.fittedvalues, color='red')\n",
    "plt.title('RSS: %.4f'% sum((results_AR.fittedvalues-datasetLogDiffShifting[\"Passengers\"])**2))\n",
    "print('Plotando AR model')\n",
    "\n",
    "# RSS = soma residual dos quadrados\n",
    "# quanto maior o RSS, pior"
   ]
  },
  {
   "cell_type": "code",
   "execution_count": null,
   "id": "d235f39b",
   "metadata": {
    "scrolled": true
   },
   "outputs": [],
   "source": [
    "#MA model\n",
    "model = ARIMA(indexedDataset_logScale, order=(0, 1, 2))\n",
    "results_MA = model.fit(disp=-1)\n",
    "plt.plot(datasetLogDiffShifting)\n",
    "plt.plot(results_MA.fittedvalues, color='red')\n",
    "plt.title('RSS: %.4f'% sum((results_MA.fittedvalues-datasetLogDiffShifting[\"Passengers\"])**2))\n",
    "print('Plotando MA model')"
   ]
  },
  {
   "cell_type": "code",
   "execution_count": null,
   "id": "1c07f657",
   "metadata": {
    "scrolled": true
   },
   "outputs": [],
   "source": [
    "#ARIMA model\n",
    "model = ARIMA(indexedDataset_logScale, order=(2, 1, 2))\n",
    "results_ARIMA = model.fit(disp=-1)\n",
    "plt.plot(datasetLogDiffShifting)\n",
    "plt.plot(results_ARIMA.fittedvalues, color='red')\n",
    "plt.title('RSS: %.4f'% sum((results_ARIMA.fittedvalues-datasetLogDiffShifting[\"Passengers\"])**2))"
   ]
  },
  {
   "cell_type": "code",
   "execution_count": null,
   "id": "8bf512bb",
   "metadata": {
    "scrolled": true
   },
   "outputs": [],
   "source": [
    "predictions_ARIMA_diff = pd.Series(results_ARIMA.fittedvalues, copy=True)\n",
    "print(predictions_ARIMA_diff.head())"
   ]
  },
  {
   "cell_type": "code",
   "execution_count": null,
   "id": "b84bee14",
   "metadata": {
    "scrolled": true
   },
   "outputs": [],
   "source": [
    "#converter para soma acumulative\n",
    "predictions_ARIMA_diff_cumsum = predictions_ARIMA_diff.cumsum()\n",
    "print(predictions_ARIMA_diff_cumsum.head())"
   ]
  },
  {
   "cell_type": "code",
   "execution_count": null,
   "id": "194e07c3",
   "metadata": {
    "scrolled": true
   },
   "outputs": [],
   "source": [
    "predictions_ARIMA_log = pd.Series(indexedDataset_logScale['Passengers'].iloc[0], index=indexedDataset_logScale.index)\n",
    "predictions_ARIMA_log = predictions_ARIMA_log.add(predictions_ARIMA_diff_cumsum,fill_value=0)\n",
    "predictions_ARIMA_log.head()"
   ]
  },
  {
   "cell_type": "code",
   "execution_count": null,
   "id": "5c66ad57",
   "metadata": {
    "scrolled": true
   },
   "outputs": [],
   "source": [
    "predictions_ARIMA = np.exp(predictions_ARIMA_log)\n",
    "plt.plot(indexedDataset)\n",
    "plt.plot(predictions_ARIMA)"
   ]
  },
  {
   "cell_type": "code",
   "execution_count": null,
   "id": "4f9597b3",
   "metadata": {},
   "outputs": [],
   "source": [
    "indexedDataset_logScale"
   ]
  },
  {
   "cell_type": "code",
   "execution_count": null,
   "id": "49176173",
   "metadata": {
    "scrolled": true
   },
   "outputs": [],
   "source": [
    "results_ARIMA.plot_predict(1,264)\n",
    "x = results_ARIMA.forecast(steps=120)"
   ]
  },
  {
   "cell_type": "code",
   "execution_count": null,
   "id": "ccd849b2",
   "metadata": {},
   "outputs": [],
   "source": [
    "x[1]"
   ]
  },
  {
   "cell_type": "code",
   "execution_count": null,
   "id": "39d1153b",
   "metadata": {},
   "outputs": [],
   "source": [
    "len(x[1])"
   ]
  },
  {
   "cell_type": "code",
   "execution_count": null,
   "id": "303dd6c6",
   "metadata": {},
   "outputs": [],
   "source": [
    "np.exp(x[1])"
   ]
  }
 ],
 "metadata": {
  "kernelspec": {
   "display_name": "Python 3",
   "language": "python",
   "name": "python3"
  },
  "language_info": {
   "codemirror_mode": {
    "name": "ipython",
    "version": 3
   },
   "file_extension": ".py",
   "mimetype": "text/x-python",
   "name": "python",
   "nbconvert_exporter": "python",
   "pygments_lexer": "ipython3",
   "version": "3.8.8"
  }
 },
 "nbformat": 4,
 "nbformat_minor": 5
}
